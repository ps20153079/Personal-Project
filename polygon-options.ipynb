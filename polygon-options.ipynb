{
 "cells": [
  {
   "cell_type": "markdown",
   "id": "f9ff4f78",
   "metadata": {},
   "source": [
    "# Polygon Options Overview"
   ]
  },
  {
   "cell_type": "code",
   "execution_count": 3,
   "id": "46df1fd1",
   "metadata": {},
   "outputs": [],
   "source": [
    "import pandas as pd\n",
    "from polygon import RESTClient"
   ]
  },
  {
   "cell_type": "code",
   "execution_count": 4,
   "id": "1620b381",
   "metadata": {},
   "outputs": [],
   "source": [
    "api_key = open(\"api_key.txt\").read()\n",
    "client = RESTClient(api_key)"
   ]
  },
  {
   "cell_type": "code",
   "execution_count": null,
   "id": "c0324840",
   "metadata": {},
   "outputs": [],
   "source": [
    "# only shows pricing for options with activity\n",
    "client.get_aggs(\"O:SPY251219C00650000\", timespan=\"day\", multiplier=1, from_=\"2024-09-01\", to=\"2024-10-01\")   "
   ]
  },
  {
   "cell_type": "code",
   "execution_count": 18,
   "id": "6b99445a",
   "metadata": {},
   "outputs": [
    {
     "data": {
      "text/html": [
       "<div>\n",
       "<style scoped>\n",
       "    .dataframe tbody tr th:only-of-type {\n",
       "        vertical-align: middle;\n",
       "    }\n",
       "\n",
       "    .dataframe tbody tr th {\n",
       "        vertical-align: top;\n",
       "    }\n",
       "\n",
       "    .dataframe thead th {\n",
       "        text-align: right;\n",
       "    }\n",
       "</style>\n",
       "<table border=\"1\" class=\"dataframe\">\n",
       "  <thead>\n",
       "    <tr style=\"text-align: right;\">\n",
       "      <th></th>\n",
       "      <th>open</th>\n",
       "      <th>high</th>\n",
       "      <th>low</th>\n",
       "      <th>close</th>\n",
       "      <th>volume</th>\n",
       "      <th>transactions</th>\n",
       "    </tr>\n",
       "    <tr>\n",
       "      <th>date</th>\n",
       "      <th></th>\n",
       "      <th></th>\n",
       "      <th></th>\n",
       "      <th></th>\n",
       "      <th></th>\n",
       "      <th></th>\n",
       "    </tr>\n",
       "  </thead>\n",
       "  <tbody>\n",
       "    <tr>\n",
       "      <th>2024-09-03</th>\n",
       "      <td>9.53</td>\n",
       "      <td>9.55</td>\n",
       "      <td>8.78</td>\n",
       "      <td>8.78</td>\n",
       "      <td>10</td>\n",
       "      <td>10</td>\n",
       "    </tr>\n",
       "    <tr>\n",
       "      <th>2024-09-04</th>\n",
       "      <td>8.88</td>\n",
       "      <td>8.88</td>\n",
       "      <td>8.68</td>\n",
       "      <td>8.68</td>\n",
       "      <td>52</td>\n",
       "      <td>10</td>\n",
       "    </tr>\n",
       "    <tr>\n",
       "      <th>2024-09-05</th>\n",
       "      <td>8.17</td>\n",
       "      <td>8.17</td>\n",
       "      <td>8.17</td>\n",
       "      <td>8.17</td>\n",
       "      <td>6</td>\n",
       "      <td>2</td>\n",
       "    </tr>\n",
       "    <tr>\n",
       "      <th>2024-09-06</th>\n",
       "      <td>7.32</td>\n",
       "      <td>7.32</td>\n",
       "      <td>6.62</td>\n",
       "      <td>6.62</td>\n",
       "      <td>8</td>\n",
       "      <td>8</td>\n",
       "    </tr>\n",
       "    <tr>\n",
       "      <th>2024-09-09</th>\n",
       "      <td>7.06</td>\n",
       "      <td>7.41</td>\n",
       "      <td>7.06</td>\n",
       "      <td>7.41</td>\n",
       "      <td>10</td>\n",
       "      <td>4</td>\n",
       "    </tr>\n",
       "    <tr>\n",
       "      <th>2024-09-10</th>\n",
       "      <td>7.36</td>\n",
       "      <td>7.87</td>\n",
       "      <td>7.36</td>\n",
       "      <td>7.87</td>\n",
       "      <td>14</td>\n",
       "      <td>12</td>\n",
       "    </tr>\n",
       "    <tr>\n",
       "      <th>2024-09-11</th>\n",
       "      <td>6.89</td>\n",
       "      <td>8.06</td>\n",
       "      <td>6.89</td>\n",
       "      <td>8.06</td>\n",
       "      <td>8</td>\n",
       "      <td>4</td>\n",
       "    </tr>\n",
       "    <tr>\n",
       "      <th>2024-09-12</th>\n",
       "      <td>9.51</td>\n",
       "      <td>10.20</td>\n",
       "      <td>9.31</td>\n",
       "      <td>10.20</td>\n",
       "      <td>140</td>\n",
       "      <td>10</td>\n",
       "    </tr>\n",
       "    <tr>\n",
       "      <th>2024-09-13</th>\n",
       "      <td>10.50</td>\n",
       "      <td>11.09</td>\n",
       "      <td>10.50</td>\n",
       "      <td>10.74</td>\n",
       "      <td>36</td>\n",
       "      <td>8</td>\n",
       "    </tr>\n",
       "    <tr>\n",
       "      <th>2024-09-16</th>\n",
       "      <td>10.91</td>\n",
       "      <td>10.91</td>\n",
       "      <td>10.91</td>\n",
       "      <td>10.91</td>\n",
       "      <td>34</td>\n",
       "      <td>2</td>\n",
       "    </tr>\n",
       "    <tr>\n",
       "      <th>2024-09-17</th>\n",
       "      <td>12.00</td>\n",
       "      <td>12.00</td>\n",
       "      <td>10.86</td>\n",
       "      <td>10.86</td>\n",
       "      <td>30</td>\n",
       "      <td>18</td>\n",
       "    </tr>\n",
       "    <tr>\n",
       "      <th>2024-09-18</th>\n",
       "      <td>11.24</td>\n",
       "      <td>11.46</td>\n",
       "      <td>10.96</td>\n",
       "      <td>11.17</td>\n",
       "      <td>52</td>\n",
       "      <td>20</td>\n",
       "    </tr>\n",
       "    <tr>\n",
       "      <th>2024-09-19</th>\n",
       "      <td>12.90</td>\n",
       "      <td>13.44</td>\n",
       "      <td>12.65</td>\n",
       "      <td>12.86</td>\n",
       "      <td>1260</td>\n",
       "      <td>54</td>\n",
       "    </tr>\n",
       "    <tr>\n",
       "      <th>2024-09-20</th>\n",
       "      <td>12.25</td>\n",
       "      <td>12.45</td>\n",
       "      <td>11.96</td>\n",
       "      <td>12.31</td>\n",
       "      <td>122</td>\n",
       "      <td>54</td>\n",
       "    </tr>\n",
       "    <tr>\n",
       "      <th>2024-09-23</th>\n",
       "      <td>12.64</td>\n",
       "      <td>12.64</td>\n",
       "      <td>12.30</td>\n",
       "      <td>12.51</td>\n",
       "      <td>24</td>\n",
       "      <td>10</td>\n",
       "    </tr>\n",
       "    <tr>\n",
       "      <th>2024-09-24</th>\n",
       "      <td>12.60</td>\n",
       "      <td>12.95</td>\n",
       "      <td>12.60</td>\n",
       "      <td>12.95</td>\n",
       "      <td>8</td>\n",
       "      <td>6</td>\n",
       "    </tr>\n",
       "    <tr>\n",
       "      <th>2024-09-25</th>\n",
       "      <td>13.08</td>\n",
       "      <td>13.08</td>\n",
       "      <td>12.87</td>\n",
       "      <td>12.92</td>\n",
       "      <td>44</td>\n",
       "      <td>14</td>\n",
       "    </tr>\n",
       "    <tr>\n",
       "      <th>2024-09-26</th>\n",
       "      <td>14.39</td>\n",
       "      <td>14.42</td>\n",
       "      <td>13.44</td>\n",
       "      <td>13.70</td>\n",
       "      <td>188</td>\n",
       "      <td>28</td>\n",
       "    </tr>\n",
       "    <tr>\n",
       "      <th>2024-09-27</th>\n",
       "      <td>13.71</td>\n",
       "      <td>13.85</td>\n",
       "      <td>13.64</td>\n",
       "      <td>13.80</td>\n",
       "      <td>122</td>\n",
       "      <td>18</td>\n",
       "    </tr>\n",
       "    <tr>\n",
       "      <th>2024-09-30</th>\n",
       "      <td>13.50</td>\n",
       "      <td>13.70</td>\n",
       "      <td>13.50</td>\n",
       "      <td>13.70</td>\n",
       "      <td>6</td>\n",
       "      <td>4</td>\n",
       "    </tr>\n",
       "    <tr>\n",
       "      <th>2024-10-01</th>\n",
       "      <td>14.27</td>\n",
       "      <td>14.27</td>\n",
       "      <td>12.57</td>\n",
       "      <td>13.16</td>\n",
       "      <td>10</td>\n",
       "      <td>8</td>\n",
       "    </tr>\n",
       "  </tbody>\n",
       "</table>\n",
       "</div>"
      ],
      "text/plain": [
       "             open   high    low  close  volume  transactions\n",
       "date                                                        \n",
       "2024-09-03   9.53   9.55   8.78   8.78      10            10\n",
       "2024-09-04   8.88   8.88   8.68   8.68      52            10\n",
       "2024-09-05   8.17   8.17   8.17   8.17       6             2\n",
       "2024-09-06   7.32   7.32   6.62   6.62       8             8\n",
       "2024-09-09   7.06   7.41   7.06   7.41      10             4\n",
       "2024-09-10   7.36   7.87   7.36   7.87      14            12\n",
       "2024-09-11   6.89   8.06   6.89   8.06       8             4\n",
       "2024-09-12   9.51  10.20   9.31  10.20     140            10\n",
       "2024-09-13  10.50  11.09  10.50  10.74      36             8\n",
       "2024-09-16  10.91  10.91  10.91  10.91      34             2\n",
       "2024-09-17  12.00  12.00  10.86  10.86      30            18\n",
       "2024-09-18  11.24  11.46  10.96  11.17      52            20\n",
       "2024-09-19  12.90  13.44  12.65  12.86    1260            54\n",
       "2024-09-20  12.25  12.45  11.96  12.31     122            54\n",
       "2024-09-23  12.64  12.64  12.30  12.51      24            10\n",
       "2024-09-24  12.60  12.95  12.60  12.95       8             6\n",
       "2024-09-25  13.08  13.08  12.87  12.92      44            14\n",
       "2024-09-26  14.39  14.42  13.44  13.70     188            28\n",
       "2024-09-27  13.71  13.85  13.64  13.80     122            18\n",
       "2024-09-30  13.50  13.70  13.50  13.70       6             4\n",
       "2024-10-01  14.27  14.27  12.57  13.16      10             8"
      ]
     },
     "execution_count": 18,
     "metadata": {},
     "output_type": "execute_result"
    }
   ],
   "source": [
    "aggs = client.get_aggs(\"O:SPY251219C00650000\", \n",
    "                       timespan=\"day\", multiplier=1, from_=\"2024-09-01\", to=\"2024-10-01\")\n",
    "def make_df(aggs):\n",
    "    data = []\n",
    "    for agg in aggs:\n",
    "        data.append({\n",
    "        \"date\" : agg.timestamp,\n",
    "        \"open\" : agg.open,\n",
    "        \"high\" : agg.high,\n",
    "        \"low\"  : agg.low,\n",
    "        \"close\": agg.close,\n",
    "        \"volume\": agg.volume,\n",
    "        \"transactions\": agg.transactions\n",
    "    })\n",
    "    data = pd.DataFrame(data)\n",
    "    data.index = pd.to_datetime(data.date, unit=\"ms\").dt.date\n",
    "    data.drop(columns=[\"date\"], inplace = True)\n",
    "    return data\n",
    "make_df(aggs)"
   ]
  },
  {
   "cell_type": "code",
   "execution_count": 29,
   "id": "97e60ef1",
   "metadata": {},
   "outputs": [
    {
     "data": {
      "text/plain": [
       "168.42"
      ]
     },
     "execution_count": 29,
     "metadata": {},
     "output_type": "execute_result"
    }
   ],
   "source": [
    "goog = client.get_daily_open_close_agg(\"GOOG\", date=\"2024-10-01\")\n",
    "goog.close"
   ]
  },
  {
   "cell_type": "code",
   "execution_count": 25,
   "id": "be0bcf06",
   "metadata": {},
   "outputs": [],
   "source": [
    "def nearest_five(price, base=5):\n",
    "    return base * round(price/base)"
   ]
  },
  {
   "cell_type": "code",
   "execution_count": 27,
   "id": "79f5e608",
   "metadata": {},
   "outputs": [
    {
     "data": {
      "text/plain": [
       "170"
      ]
     },
     "execution_count": 27,
     "metadata": {},
     "output_type": "execute_result"
    }
   ],
   "source": [
    "nearest_five(goog.close)"
   ]
  },
  {
   "cell_type": "code",
   "execution_count": 30,
   "id": "c1b438a2",
   "metadata": {},
   "outputs": [],
   "source": [
    "start = nearest_five(goog.close) - 10\n",
    "strikes = [start + x * 2.5 for x in range(9)]"
   ]
  },
  {
   "cell_type": "code",
   "execution_count": 31,
   "id": "ddbcb258",
   "metadata": {},
   "outputs": [],
   "source": [
    "strikes = [strike * 1000 for strike in strikes]"
   ]
  },
  {
   "cell_type": "code",
   "execution_count": 32,
   "id": "89143a3f",
   "metadata": {},
   "outputs": [
    {
     "data": {
      "text/plain": [
       "[160000.0,\n",
       " 162500.0,\n",
       " 165000.0,\n",
       " 167500.0,\n",
       " 170000.0,\n",
       " 172500.0,\n",
       " 175000.0,\n",
       " 177500.0,\n",
       " 180000.0]"
      ]
     },
     "execution_count": 32,
     "metadata": {},
     "output_type": "execute_result"
    }
   ],
   "source": [
    "strikes"
   ]
  },
  {
   "cell_type": "code",
   "execution_count": 33,
   "id": "58977a81",
   "metadata": {},
   "outputs": [],
   "source": [
    "symbols = [f\"O:GOOG240621C00{strike:.0f}\" for strike in strikes]"
   ]
  },
  {
   "cell_type": "code",
   "execution_count": 34,
   "id": "1dfd5a7e",
   "metadata": {},
   "outputs": [
    {
     "data": {
      "text/plain": [
       "['O:GOOG240621C00160000',\n",
       " 'O:GOOG240621C00162500',\n",
       " 'O:GOOG240621C00165000',\n",
       " 'O:GOOG240621C00167500',\n",
       " 'O:GOOG240621C00170000',\n",
       " 'O:GOOG240621C00172500',\n",
       " 'O:GOOG240621C00175000',\n",
       " 'O:GOOG240621C00177500',\n",
       " 'O:GOOG240621C00180000']"
      ]
     },
     "execution_count": 34,
     "metadata": {},
     "output_type": "execute_result"
    }
   ],
   "source": [
    "symbols"
   ]
  },
  {
   "cell_type": "code",
   "execution_count": 35,
   "id": "0daf031b",
   "metadata": {},
   "outputs": [
    {
     "name": "stdout",
     "output_type": "stream",
     "text": [
      "16000 [Agg(open=17.36, high=19.68, low=17.05, close=18.9, volume=224, vwap=18.3814, timestamp=1718596800000, transactions=64, otc=None)]\n",
      "16250 [Agg(open=14.55, high=17.21, low=14.55, close=16.75, volume=20, vwap=16.016, timestamp=1718596800000, transactions=14, otc=None)]\n",
      "16500 [Agg(open=12.25, high=16.3, low=11.91, close=14.13, volume=504, vwap=13.5556, timestamp=1718596800000, transactions=56, otc=None)]\n",
      "16750 [Agg(open=9.97, high=11.67, low=9.97, close=11.67, volume=50, vwap=10.2236, timestamp=1718596800000, transactions=10, otc=None)]\n"
     ]
    }
   ],
   "source": [
    "for symbol in symbols[:4]:\n",
    "    print(f\"{symbol[-6:-1]}\",client.get_aggs(ticker=symbol,  timespan=\"day\", multiplier=1, from_=\"2024-06-17\", to=\"2024-06-17\"))"
   ]
  },
  {
   "cell_type": "code",
   "execution_count": null,
   "id": "300f0baf",
   "metadata": {},
   "outputs": [],
   "source": []
  },
  {
   "cell_type": "code",
   "execution_count": null,
   "id": "a68f8f66",
   "metadata": {},
   "outputs": [],
   "source": []
  },
  {
   "cell_type": "code",
   "execution_count": null,
   "id": "9dadcd72",
   "metadata": {},
   "outputs": [],
   "source": []
  },
  {
   "cell_type": "code",
   "execution_count": null,
   "id": "b5375ef5",
   "metadata": {},
   "outputs": [],
   "source": []
  }
 ],
 "metadata": {
  "kernelspec": {
   "display_name": "Python 3 (ipykernel)",
   "language": "python",
   "name": "python3"
  },
  "language_info": {
   "codemirror_mode": {
    "name": "ipython",
    "version": 3
   },
   "file_extension": ".py",
   "mimetype": "text/x-python",
   "name": "python",
   "nbconvert_exporter": "python",
   "pygments_lexer": "ipython3",
   "version": "3.12.4"
  }
 },
 "nbformat": 4,
 "nbformat_minor": 5
}
