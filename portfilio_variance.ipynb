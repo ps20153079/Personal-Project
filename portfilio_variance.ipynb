{
 "cells": [
  {
   "cell_type": "markdown",
   "id": "046761b1-34fb-497d-b18b-b260af1fe9bc",
   "metadata": {},
   "source": [
    "# Portfolio Variance"
   ]
  },
  {
   "cell_type": "code",
   "execution_count": 20,
   "id": "457712e6-2531-4acc-b56e-ea43dfaa7cbd",
   "metadata": {},
   "outputs": [],
   "source": [
    "import numpy as np\n",
    "import pandas as pd\n",
    "import yfinance as yf"
   ]
  },
  {
   "cell_type": "markdown",
   "id": "47e80d66-edbd-403f-b7be-6f52c8159b28",
   "metadata": {},
   "source": [
    "### Portfolio Variance Formula\n",
    "![image](mm2-variance.gif)"
   ]
  },
  {
   "cell_type": "code",
   "execution_count": 22,
   "id": "5376f794-5096-42da-9244-c920f4e03429",
   "metadata": {},
   "outputs": [
    {
     "data": {
      "text/plain": [
       "['SPY', 'NVDA', 'GOOG', 'AMZN', 'LLY']"
      ]
     },
     "execution_count": 22,
     "metadata": {},
     "output_type": "execute_result"
    }
   ],
   "source": [
    "stocks = \"SPY NVDA GOOG  AMZN LLY\".split()\n",
    "stocks"
   ]
  },
  {
   "cell_type": "markdown",
   "id": "b83a9c4c-008b-4eb3-b4c6-2531fdb1cd91",
   "metadata": {},
   "source": [
    "### 1. Get Data & Calculate Returns"
   ]
  },
  {
   "cell_type": "code",
   "execution_count": 24,
   "id": "0515fc4b-ce91-4153-ac56-ed3cb3ce0504",
   "metadata": {},
   "outputs": [
    {
     "name": "stderr",
     "output_type": "stream",
     "text": [
      "[*********************100%***********************]  5 of 5 completed\n"
     ]
    }
   ],
   "source": [
    "data = yf.download(stocks, \"2023-10-21\")[\"Close\"]"
   ]
  },
  {
   "cell_type": "code",
   "execution_count": 36,
   "id": "0c1587ba-b87f-4300-b311-2fa90063d0df",
   "metadata": {},
   "outputs": [
    {
     "data": {
      "text/html": [
       "<div>\n",
       "<style scoped>\n",
       "    .dataframe tbody tr th:only-of-type {\n",
       "        vertical-align: middle;\n",
       "    }\n",
       "\n",
       "    .dataframe tbody tr th {\n",
       "        vertical-align: top;\n",
       "    }\n",
       "\n",
       "    .dataframe thead th {\n",
       "        text-align: right;\n",
       "    }\n",
       "</style>\n",
       "<table border=\"1\" class=\"dataframe\">\n",
       "  <thead>\n",
       "    <tr style=\"text-align: right;\">\n",
       "      <th>Ticker</th>\n",
       "      <th>AMZN</th>\n",
       "      <th>GOOG</th>\n",
       "      <th>LLY</th>\n",
       "      <th>NVDA</th>\n",
       "      <th>SPY</th>\n",
       "    </tr>\n",
       "    <tr>\n",
       "      <th>Date</th>\n",
       "      <th></th>\n",
       "      <th></th>\n",
       "      <th></th>\n",
       "      <th></th>\n",
       "      <th></th>\n",
       "    </tr>\n",
       "  </thead>\n",
       "  <tbody>\n",
       "    <tr>\n",
       "      <th>2023-10-24 00:00:00+00:00</th>\n",
       "      <td>0.015679</td>\n",
       "      <td>0.015970</td>\n",
       "      <td>0.026997</td>\n",
       "      <td>0.015883</td>\n",
       "      <td>0.007511</td>\n",
       "    </tr>\n",
       "    <tr>\n",
       "      <th>2023-10-25 00:00:00+00:00</th>\n",
       "      <td>-0.057387</td>\n",
       "      <td>-0.100914</td>\n",
       "      <td>-0.010128</td>\n",
       "      <td>-0.044107</td>\n",
       "      <td>-0.014456</td>\n",
       "    </tr>\n",
       "    <tr>\n",
       "      <th>2023-10-26 00:00:00+00:00</th>\n",
       "      <td>-0.015107</td>\n",
       "      <td>-0.025830</td>\n",
       "      <td>-0.031807</td>\n",
       "      <td>-0.035397</td>\n",
       "      <td>-0.012047</td>\n",
       "    </tr>\n",
       "    <tr>\n",
       "      <th>2023-10-27 00:00:00+00:00</th>\n",
       "      <td>0.066095</td>\n",
       "      <td>-0.000324</td>\n",
       "      <td>-0.013950</td>\n",
       "      <td>0.004306</td>\n",
       "      <td>-0.004543</td>\n",
       "    </tr>\n",
       "    <tr>\n",
       "      <th>2023-10-30 00:00:00+00:00</th>\n",
       "      <td>0.038169</td>\n",
       "      <td>0.018865</td>\n",
       "      <td>0.009734</td>\n",
       "      <td>0.016189</td>\n",
       "      <td>0.011885</td>\n",
       "    </tr>\n",
       "  </tbody>\n",
       "</table>\n",
       "</div>"
      ],
      "text/plain": [
       "Ticker                         AMZN      GOOG       LLY      NVDA       SPY\n",
       "Date                                                                       \n",
       "2023-10-24 00:00:00+00:00  0.015679  0.015970  0.026997  0.015883  0.007511\n",
       "2023-10-25 00:00:00+00:00 -0.057387 -0.100914 -0.010128 -0.044107 -0.014456\n",
       "2023-10-26 00:00:00+00:00 -0.015107 -0.025830 -0.031807 -0.035397 -0.012047\n",
       "2023-10-27 00:00:00+00:00  0.066095 -0.000324 -0.013950  0.004306 -0.004543\n",
       "2023-10-30 00:00:00+00:00  0.038169  0.018865  0.009734  0.016189  0.011885"
      ]
     },
     "execution_count": 36,
     "metadata": {},
     "output_type": "execute_result"
    }
   ],
   "source": [
    "returns = np.log(data).diff().dropna()\n",
    "returns.head()"
   ]
  },
  {
   "cell_type": "markdown",
   "id": "4c82c625-cfab-4f06-8c62-9dc53d76fb01",
   "metadata": {},
   "source": [
    "### 2. Calculate covariance/variance matrix"
   ]
  },
  {
   "cell_type": "code",
   "execution_count": 40,
   "id": "db5e51a3-558b-4638-a985-ce4987c03263",
   "metadata": {},
   "outputs": [],
   "source": [
    "cov = returns.cov() * 252"
   ]
  },
  {
   "cell_type": "code",
   "execution_count": null,
   "id": "dc46856a-22bb-4333-af39-9c916530b785",
   "metadata": {},
   "outputs": [],
   "source": []
  },
  {
   "cell_type": "markdown",
   "id": "16a30b59-c988-4f0e-aaeb-191084478061",
   "metadata": {},
   "source": [
    "### 3. For comparison a simple weighted variance"
   ]
  },
  {
   "cell_type": "code",
   "execution_count": 46,
   "id": "c365fdc1-28ee-41ca-94bf-08c345f36247",
   "metadata": {},
   "outputs": [
    {
     "data": {
      "text/plain": [
       "Ticker\n",
       "AMZN    0.275998\n",
       "GOOG    0.278497\n",
       "LLY     0.294400\n",
       "NVDA    0.515209\n",
       "SPY     0.123191\n",
       "dtype: float64"
      ]
     },
     "execution_count": 46,
     "metadata": {},
     "output_type": "execute_result"
    }
   ],
   "source": [
    "(returns.var() * 252) ** .5"
   ]
  },
  {
   "cell_type": "code",
   "execution_count": 50,
   "id": "dfe006a2-12e5-4ce3-b7a3-ba62ed77c198",
   "metadata": {},
   "outputs": [
    {
     "data": {
      "text/plain": [
       "0.33127508617663526"
      ]
     },
     "execution_count": 50,
     "metadata": {},
     "output_type": "execute_result"
    }
   ],
   "source": [
    "weights = np.array([.1,.1,.1, .3, .4])\n",
    "np.sqrt(np.dot(weights, returns.var() * 252))"
   ]
  },
  {
   "cell_type": "markdown",
   "id": "a76f5a3e-3dc7-41c2-b848-25dc832c201d",
   "metadata": {},
   "source": [
    "### 4. Portfolio Variance"
   ]
  },
  {
   "cell_type": "code",
   "execution_count": 52,
   "id": "194cb555-dd09-4095-856c-a0ab1f10665d",
   "metadata": {},
   "outputs": [
    {
     "data": {
      "text/plain": [
       "0.054728857826984625"
      ]
     },
     "execution_count": 52,
     "metadata": {},
     "output_type": "execute_result"
    }
   ],
   "source": [
    "var = np.dot(weights.T, np.dot(weights, cov))\n",
    "var"
   ]
  },
  {
   "cell_type": "markdown",
   "id": "25a99494-8d57-4cfd-b2ba-c742118f6669",
   "metadata": {},
   "source": [
    "### 5. Portfolio Volatility (St Dev)"
   ]
  },
  {
   "cell_type": "code",
   "execution_count": 54,
   "id": "6b345588-0825-47b0-88ef-f5aa97fad74f",
   "metadata": {},
   "outputs": [
    {
     "data": {
      "text/plain": [
       "0.23394199671496485"
      ]
     },
     "execution_count": 54,
     "metadata": {},
     "output_type": "execute_result"
    }
   ],
   "source": [
    "std = np.sqrt(var)\n",
    "std"
   ]
  },
  {
   "cell_type": "code",
   "execution_count": null,
   "id": "09470347-0826-40f7-84b7-50471cfc7cf3",
   "metadata": {},
   "outputs": [],
   "source": []
  },
  {
   "cell_type": "code",
   "execution_count": null,
   "id": "8f276f5b-86e8-4e84-8377-0f1c41fb8eec",
   "metadata": {},
   "outputs": [],
   "source": []
  },
  {
   "cell_type": "code",
   "execution_count": null,
   "id": "3b3e1a2b-5912-4434-bf4b-71451cf77888",
   "metadata": {},
   "outputs": [],
   "source": []
  },
  {
   "cell_type": "code",
   "execution_count": 81,
   "id": "8106a8aa-25af-4059-9916-a71edbbe1840",
   "metadata": {},
   "outputs": [],
   "source": []
  }
 ],
 "metadata": {
  "kernelspec": {
   "display_name": "Python 3 (ipykernel)",
   "language": "python",
   "name": "python3"
  },
  "language_info": {
   "codemirror_mode": {
    "name": "ipython",
    "version": 3
   },
   "file_extension": ".py",
   "mimetype": "text/x-python",
   "name": "python",
   "nbconvert_exporter": "python",
   "pygments_lexer": "ipython3",
   "version": "3.12.4"
  }
 },
 "nbformat": 4,
 "nbformat_minor": 5
}
