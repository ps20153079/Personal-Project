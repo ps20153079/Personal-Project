{
 "cells": [
  {
   "cell_type": "markdown",
   "id": "edc3064c-ec76-4173-910b-2cce5c887561",
   "metadata": {},
   "source": [
    "# Portfolio Optimization"
   ]
  },
  {
   "cell_type": "code",
   "execution_count": 26,
   "id": "457712e6-2531-4acc-b56e-ea43dfaa7cbd",
   "metadata": {},
   "outputs": [],
   "source": [
    "import numpy as np\n",
    "import pandas as pd\n",
    "from scipy.optimize import minimize\n",
    "import yfinance as yf"
   ]
  },
  {
   "cell_type": "markdown",
   "id": "2a4ad9ae-3b5c-4b9d-94d6-8228cd2de3f7",
   "metadata": {},
   "source": [
    "### 1. Preliminaries: get data, calculate returns and covariance "
   ]
  },
  {
   "cell_type": "code",
   "execution_count": 28,
   "id": "5376f794-5096-42da-9244-c920f4e03429",
   "metadata": {},
   "outputs": [
    {
     "data": {
      "text/plain": [
       "['SPY', 'NVDA', 'GOOG', 'AMZN', 'LLY']"
      ]
     },
     "execution_count": 28,
     "metadata": {},
     "output_type": "execute_result"
    }
   ],
   "source": [
    "stocks = \"SPY NVDA GOOG  AMZN LLY\".split()\n",
    "stocks"
   ]
  },
  {
   "cell_type": "code",
   "execution_count": 30,
   "id": "0515fc4b-ce91-4153-ac56-ed3cb3ce0504",
   "metadata": {},
   "outputs": [
    {
     "name": "stderr",
     "output_type": "stream",
     "text": [
      "[*********************100%***********************]  5 of 5 completed\n"
     ]
    },
    {
     "data": {
      "text/html": [
       "<div>\n",
       "<style scoped>\n",
       "    .dataframe tbody tr th:only-of-type {\n",
       "        vertical-align: middle;\n",
       "    }\n",
       "\n",
       "    .dataframe tbody tr th {\n",
       "        vertical-align: top;\n",
       "    }\n",
       "\n",
       "    .dataframe thead th {\n",
       "        text-align: right;\n",
       "    }\n",
       "</style>\n",
       "<table border=\"1\" class=\"dataframe\">\n",
       "  <thead>\n",
       "    <tr style=\"text-align: right;\">\n",
       "      <th>Ticker</th>\n",
       "      <th>AMZN</th>\n",
       "      <th>GOOG</th>\n",
       "      <th>LLY</th>\n",
       "      <th>NVDA</th>\n",
       "      <th>SPY</th>\n",
       "    </tr>\n",
       "    <tr>\n",
       "      <th>Date</th>\n",
       "      <th></th>\n",
       "      <th></th>\n",
       "      <th></th>\n",
       "      <th></th>\n",
       "      <th></th>\n",
       "    </tr>\n",
       "  </thead>\n",
       "  <tbody>\n",
       "    <tr>\n",
       "      <th>2023-10-30 00:00:00+00:00</th>\n",
       "      <td>132.710007</td>\n",
       "      <td>125.750000</td>\n",
       "      <td>565.710022</td>\n",
       "      <td>41.160999</td>\n",
       "      <td>415.589996</td>\n",
       "    </tr>\n",
       "    <tr>\n",
       "      <th>2023-10-31 00:00:00+00:00</th>\n",
       "      <td>133.089996</td>\n",
       "      <td>125.300003</td>\n",
       "      <td>553.929993</td>\n",
       "      <td>40.779999</td>\n",
       "      <td>418.200012</td>\n",
       "    </tr>\n",
       "    <tr>\n",
       "      <th>2023-11-01 00:00:00+00:00</th>\n",
       "      <td>137.000000</td>\n",
       "      <td>127.570000</td>\n",
       "      <td>554.460022</td>\n",
       "      <td>42.325001</td>\n",
       "      <td>422.660004</td>\n",
       "    </tr>\n",
       "  </tbody>\n",
       "</table>\n",
       "</div>"
      ],
      "text/plain": [
       "Ticker                           AMZN        GOOG         LLY       NVDA  \\\n",
       "Date                                                                       \n",
       "2023-10-30 00:00:00+00:00  132.710007  125.750000  565.710022  41.160999   \n",
       "2023-10-31 00:00:00+00:00  133.089996  125.300003  553.929993  40.779999   \n",
       "2023-11-01 00:00:00+00:00  137.000000  127.570000  554.460022  42.325001   \n",
       "\n",
       "Ticker                            SPY  \n",
       "Date                                   \n",
       "2023-10-30 00:00:00+00:00  415.589996  \n",
       "2023-10-31 00:00:00+00:00  418.200012  \n",
       "2023-11-01 00:00:00+00:00  422.660004  "
      ]
     },
     "execution_count": 30,
     "metadata": {},
     "output_type": "execute_result"
    }
   ],
   "source": [
    "data = yf.download(stocks, \"2023-10-28\")['Close']\n",
    "data.head(3)"
   ]
  },
  {
   "cell_type": "code",
   "execution_count": 32,
   "id": "0c1587ba-b87f-4300-b311-2fa90063d0df",
   "metadata": {},
   "outputs": [
    {
     "data": {
      "text/html": [
       "<div>\n",
       "<style scoped>\n",
       "    .dataframe tbody tr th:only-of-type {\n",
       "        vertical-align: middle;\n",
       "    }\n",
       "\n",
       "    .dataframe tbody tr th {\n",
       "        vertical-align: top;\n",
       "    }\n",
       "\n",
       "    .dataframe thead th {\n",
       "        text-align: right;\n",
       "    }\n",
       "</style>\n",
       "<table border=\"1\" class=\"dataframe\">\n",
       "  <thead>\n",
       "    <tr style=\"text-align: right;\">\n",
       "      <th>Ticker</th>\n",
       "      <th>AMZN</th>\n",
       "      <th>GOOG</th>\n",
       "      <th>LLY</th>\n",
       "      <th>NVDA</th>\n",
       "      <th>SPY</th>\n",
       "    </tr>\n",
       "    <tr>\n",
       "      <th>Date</th>\n",
       "      <th></th>\n",
       "      <th></th>\n",
       "      <th></th>\n",
       "      <th></th>\n",
       "      <th></th>\n",
       "    </tr>\n",
       "  </thead>\n",
       "  <tbody>\n",
       "    <tr>\n",
       "      <th>2023-10-31 00:00:00+00:00</th>\n",
       "      <td>0.002859</td>\n",
       "      <td>-0.003585</td>\n",
       "      <td>-0.021043</td>\n",
       "      <td>-0.009299</td>\n",
       "      <td>0.006261</td>\n",
       "    </tr>\n",
       "    <tr>\n",
       "      <th>2023-11-01 00:00:00+00:00</th>\n",
       "      <td>0.028955</td>\n",
       "      <td>0.017954</td>\n",
       "      <td>0.000956</td>\n",
       "      <td>0.037186</td>\n",
       "      <td>0.010608</td>\n",
       "    </tr>\n",
       "    <tr>\n",
       "      <th>2023-11-02 00:00:00+00:00</th>\n",
       "      <td>0.007780</td>\n",
       "      <td>0.007886</td>\n",
       "      <td>0.045533</td>\n",
       "      <td>0.027521</td>\n",
       "      <td>0.018983</td>\n",
       "    </tr>\n",
       "  </tbody>\n",
       "</table>\n",
       "</div>"
      ],
      "text/plain": [
       "Ticker                         AMZN      GOOG       LLY      NVDA       SPY\n",
       "Date                                                                       \n",
       "2023-10-31 00:00:00+00:00  0.002859 -0.003585 -0.021043 -0.009299  0.006261\n",
       "2023-11-01 00:00:00+00:00  0.028955  0.017954  0.000956  0.037186  0.010608\n",
       "2023-11-02 00:00:00+00:00  0.007780  0.007886  0.045533  0.027521  0.018983"
      ]
     },
     "execution_count": 32,
     "metadata": {},
     "output_type": "execute_result"
    }
   ],
   "source": [
    "returns = np.log(data).diff().dropna()\n",
    "returns.head(3)"
   ]
  },
  {
   "cell_type": "code",
   "execution_count": 34,
   "id": "db5e51a3-558b-4638-a985-ce4987c03263",
   "metadata": {},
   "outputs": [
    {
     "data": {
      "text/html": [
       "<div>\n",
       "<style scoped>\n",
       "    .dataframe tbody tr th:only-of-type {\n",
       "        vertical-align: middle;\n",
       "    }\n",
       "\n",
       "    .dataframe tbody tr th {\n",
       "        vertical-align: top;\n",
       "    }\n",
       "\n",
       "    .dataframe thead th {\n",
       "        text-align: right;\n",
       "    }\n",
       "</style>\n",
       "<table border=\"1\" class=\"dataframe\">\n",
       "  <thead>\n",
       "    <tr style=\"text-align: right;\">\n",
       "      <th>Ticker</th>\n",
       "      <th>AMZN</th>\n",
       "      <th>GOOG</th>\n",
       "      <th>LLY</th>\n",
       "      <th>NVDA</th>\n",
       "      <th>SPY</th>\n",
       "    </tr>\n",
       "    <tr>\n",
       "      <th>Ticker</th>\n",
       "      <th></th>\n",
       "      <th></th>\n",
       "      <th></th>\n",
       "      <th></th>\n",
       "      <th></th>\n",
       "    </tr>\n",
       "  </thead>\n",
       "  <tbody>\n",
       "    <tr>\n",
       "      <th>AMZN</th>\n",
       "      <td>0.067259</td>\n",
       "      <td>0.034787</td>\n",
       "      <td>0.022246</td>\n",
       "      <td>0.060516</td>\n",
       "      <td>0.021252</td>\n",
       "    </tr>\n",
       "    <tr>\n",
       "      <th>GOOG</th>\n",
       "      <td>0.034787</td>\n",
       "      <td>0.066136</td>\n",
       "      <td>0.012179</td>\n",
       "      <td>0.044871</td>\n",
       "      <td>0.017006</td>\n",
       "    </tr>\n",
       "    <tr>\n",
       "      <th>LLY</th>\n",
       "      <td>0.022246</td>\n",
       "      <td>0.012179</td>\n",
       "      <td>0.084416</td>\n",
       "      <td>0.052257</td>\n",
       "      <td>0.012277</td>\n",
       "    </tr>\n",
       "  </tbody>\n",
       "</table>\n",
       "</div>"
      ],
      "text/plain": [
       "Ticker      AMZN      GOOG       LLY      NVDA       SPY\n",
       "Ticker                                                  \n",
       "AMZN    0.067259  0.034787  0.022246  0.060516  0.021252\n",
       "GOOG    0.034787  0.066136  0.012179  0.044871  0.017006\n",
       "LLY     0.022246  0.012179  0.084416  0.052257  0.012277"
      ]
     },
     "execution_count": 34,
     "metadata": {},
     "output_type": "execute_result"
    }
   ],
   "source": [
    "cov = returns.cov() * 252\n",
    "cov.head(3)"
   ]
  },
  {
   "cell_type": "markdown",
   "id": "47edc2c4-fe19-43c3-befd-78ed31702a1d",
   "metadata": {},
   "source": [
    "### 2. Set initial weights and calculate expected return"
   ]
  },
  {
   "cell_type": "code",
   "execution_count": 36,
   "id": "dc46856a-22bb-4333-af39-9c916530b785",
   "metadata": {},
   "outputs": [
    {
     "data": {
      "text/plain": [
       "Ticker\n",
       "AMZN    0.358185\n",
       "GOOG    0.304951\n",
       "LLY     0.467874\n",
       "NVDA    1.234320\n",
       "SPY     0.335998\n",
       "dtype: float64"
      ]
     },
     "execution_count": 36,
     "metadata": {},
     "output_type": "execute_result"
    }
   ],
   "source": [
    "exp_rets = returns.mean() * 252\n",
    "exp_rets"
   ]
  },
  {
   "cell_type": "code",
   "execution_count": 38,
   "id": "dfe006a2-12e5-4ce3-b7a3-ba62ed77c198",
   "metadata": {},
   "outputs": [],
   "source": [
    "weights = np.array([.1,.1,.1,.3, .4])"
   ]
  },
  {
   "cell_type": "markdown",
   "id": "e2ad9e07-d361-4b93-b4f7-cf82b1cb450a",
   "metadata": {},
   "source": [
    "### 3. Portfolio metrics based on pre-optimization parameters"
   ]
  },
  {
   "cell_type": "code",
   "execution_count": 42,
   "id": "09470347-0826-40f7-84b7-50471cfc7cf3",
   "metadata": {},
   "outputs": [
    {
     "name": "stdout",
     "output_type": "stream",
     "text": [
      "Expected Ret:\t    61.78%\n",
      "Volatility:\t    22.90%\n",
      "Sharpe:\t\t      2.48\n"
     ]
    }
   ],
   "source": [
    "exp_ret = np.dot(exp_rets, weights)\n",
    "std = np.dot(weights.T, np.dot(weights, cov)) ** .5\n",
    "sharpe = (exp_ret - .05) / std\n",
    "print(f\"Expected Ret:\\t{exp_ret:>10.2%}\")\n",
    "print(f\"Volatility:\\t{std:>10.2%}\")\n",
    "print(f\"Sharpe:\\t\\t{sharpe:>10.2f}\")"
   ]
  },
  {
   "cell_type": "code",
   "execution_count": null,
   "id": "8f276f5b-86e8-4e84-8377-0f1c41fb8eec",
   "metadata": {},
   "outputs": [],
   "source": []
  },
  {
   "cell_type": "code",
   "execution_count": 79,
   "id": "3b3e1a2b-5912-4434-bf4b-71451cf77888",
   "metadata": {},
   "outputs": [],
   "source": []
  },
  {
   "cell_type": "markdown",
   "id": "029c3d41-1cf4-49bc-8b13-cf53f2ed6c8b",
   "metadata": {},
   "source": [
    "### 4. Helper functions for optimization"
   ]
  },
  {
   "cell_type": "code",
   "execution_count": 51,
   "id": "88aad471-9e20-4c26-a876-aced0a818194",
   "metadata": {},
   "outputs": [],
   "source": [
    "def port_metrics(weights):\n",
    "    rfr = .05\n",
    "    stock_returns = returns.mean() * 252\n",
    "    exp_ret = np.dot(weights, stock_returns)\n",
    "    std = np.sqrt(np.dot(weights.T, np.dot(weights, cov)))\n",
    "    sharpe = (exp_ret - rfr) / std\n",
    "    return exp_ret, std, sharpe\n",
    "\n",
    "def min_sharpe(weights):\n",
    "    return -port_metrics(weights)[2]\n",
    "\n",
    "def check_sum(weights):\n",
    "    return sum(weights) - 1"
   ]
  },
  {
   "cell_type": "code",
   "execution_count": 53,
   "id": "57051b4f-5140-441d-a90b-4f693ff8aa45",
   "metadata": {},
   "outputs": [
    {
     "name": "stdout",
     "output_type": "stream",
     "text": [
      "(0.6177959660731156, 0.22904227290750384, 2.4790007489246912)\n"
     ]
    }
   ],
   "source": [
    "print(port_metrics(weights))"
   ]
  },
  {
   "cell_type": "markdown",
   "id": "f8c328cd-a827-4411-a874-c6fc75ab4d10",
   "metadata": {},
   "source": [
    "### 5. Set optimization constraints"
   ]
  },
  {
   "cell_type": "code",
   "execution_count": 57,
   "id": "6d6f8441-1fc0-404d-9757-1614c9cd3b43",
   "metadata": {},
   "outputs": [],
   "source": [
    "bounds = [(0,1) for weight in weights]\n",
    "constraints = {\"type\": \"eq\", \"fun\": check_sum}"
   ]
  },
  {
   "cell_type": "markdown",
   "id": "9653845c-872a-4413-82e7-c51b1f364a1f",
   "metadata": {},
   "source": [
    "### 6. Run optimization algorithm"
   ]
  },
  {
   "cell_type": "code",
   "execution_count": 60,
   "id": "3b87f27b-805e-4bcc-ab97-244c7c2a4578",
   "metadata": {},
   "outputs": [],
   "source": [
    "portfolio = minimize(min_sharpe, weights, method=\"SLSQP\", bounds = bounds, constraints = constraints)"
   ]
  },
  {
   "cell_type": "markdown",
   "id": "d2e8dbd9-3119-4048-8aa9-78de0c94ce0f",
   "metadata": {},
   "source": [
    "### 7. Display optimal portfolio weights"
   ]
  },
  {
   "cell_type": "code",
   "execution_count": 62,
   "id": "3d69abe9-1cc2-40cb-8ea2-84e1454f4c0b",
   "metadata": {},
   "outputs": [
    {
     "data": {
      "text/plain": [
       "array([0.  , 0.  , 0.11, 0.16, 0.73])"
      ]
     },
     "execution_count": 62,
     "metadata": {},
     "output_type": "execute_result"
    }
   ],
   "source": [
    "portfolio.x.round(2)"
   ]
  },
  {
   "cell_type": "markdown",
   "id": "fa5d72a4-c529-45f3-a41f-5c119c8b5139",
   "metadata": {},
   "source": [
    "### 8. Revised, optimal portfolio metrics "
   ]
  },
  {
   "cell_type": "code",
   "execution_count": 64,
   "id": "912f031b-613e-4e99-b77c-d0efbb453214",
   "metadata": {},
   "outputs": [
    {
     "data": {
      "text/plain": [
       "(0.4905480367723618, 0.1676846198185485, 2.627241766412917)"
      ]
     },
     "execution_count": 64,
     "metadata": {},
     "output_type": "execute_result"
    }
   ],
   "source": [
    "port_metrics(portfolio.x)"
   ]
  },
  {
   "cell_type": "code",
   "execution_count": null,
   "id": "948355e2-68b0-4a09-be8c-87ad9eeb25d4",
   "metadata": {},
   "outputs": [],
   "source": []
  },
  {
   "cell_type": "code",
   "execution_count": null,
   "id": "26c99ce6-8b5b-450a-923c-b0593cfe30c6",
   "metadata": {},
   "outputs": [],
   "source": []
  },
  {
   "cell_type": "code",
   "execution_count": null,
   "id": "7ec640dd-9506-4320-a192-8d5fb97691c3",
   "metadata": {},
   "outputs": [],
   "source": []
  },
  {
   "cell_type": "code",
   "execution_count": null,
   "id": "f722f142-7318-4df6-b014-5dbe79e50549",
   "metadata": {},
   "outputs": [],
   "source": []
  },
  {
   "cell_type": "code",
   "execution_count": null,
   "id": "2fad852c-09b1-44e4-bd40-08fd65c24177",
   "metadata": {},
   "outputs": [],
   "source": []
  },
  {
   "cell_type": "code",
   "execution_count": null,
   "id": "7e49ed91-322b-4f6d-87ea-f0e1d891f220",
   "metadata": {},
   "outputs": [],
   "source": []
  },
  {
   "cell_type": "code",
   "execution_count": null,
   "id": "14cb74be-2108-49b6-aaaf-5ac36e4419e5",
   "metadata": {},
   "outputs": [],
   "source": []
  },
  {
   "cell_type": "code",
   "execution_count": null,
   "id": "ebd14a26-f6d4-4457-b478-a6c4515edff8",
   "metadata": {},
   "outputs": [],
   "source": []
  }
 ],
 "metadata": {
  "kernelspec": {
   "display_name": "Python 3 (ipykernel)",
   "language": "python",
   "name": "python3"
  },
  "language_info": {
   "codemirror_mode": {
    "name": "ipython",
    "version": 3
   },
   "file_extension": ".py",
   "mimetype": "text/x-python",
   "name": "python",
   "nbconvert_exporter": "python",
   "pygments_lexer": "ipython3",
   "version": "3.12.4"
  }
 },
 "nbformat": 4,
 "nbformat_minor": 5
}
